{
 "cells": [
  {
   "cell_type": "markdown",
   "metadata": {},
   "source": [
    "# Gradient descent examples"
   ]
  },
  {
   "cell_type": "code",
   "execution_count": null,
   "metadata": {
    "scrolled": true
   },
   "outputs": [],
   "source": [
    "import numpy as np\n",
    "import matplotlib.pyplot as plt\n",
    "\n",
    "from matplotlib.animation import FuncAnimation"
   ]
  },
  {
   "cell_type": "code",
   "execution_count": null,
   "metadata": {
    "scrolled": true
   },
   "outputs": [],
   "source": [
    "%matplotlib notebook"
   ]
  },
  {
   "cell_type": "markdown",
   "metadata": {},
   "source": [
    "## 0. Gradient descent procedure"
   ]
  },
  {
   "cell_type": "code",
   "execution_count": null,
   "metadata": {},
   "outputs": [],
   "source": [
    "def trace_grad_descent(f, df, x0, alpha=0.01, n_iter=100):\n",
    "    x = x0\n",
    "    points_X = [x]\n",
    "    points_Y = [f(x)]\n",
    "\n",
    "    for i in range(n_iter):\n",
    "        x = x - alpha * df(x)\n",
    "        y = f(x)\n",
    "        points_X.append(x)\n",
    "        points_Y.append(y)\n",
    "\n",
    "    return points_X, points_Y"
   ]
  },
  {
   "cell_type": "code",
   "execution_count": null,
   "metadata": {},
   "outputs": [],
   "source": [
    "def animate_grad_descent(X, Y, gd_X, gd_Y, title=''):\n",
    "    fig = plt.figure(figsize=(6, 4))\n",
    "\n",
    "    plt.grid(True, which='both')\n",
    "    plt.axhline(y=0, color='k')\n",
    "    plt.axvline(x=0, color='k')\n",
    "\n",
    "    plt.plot(X, Y)\n",
    "\n",
    "    graph, = plt.plot([], [], 'or-')\n",
    "\n",
    "    def animate(i):\n",
    "        graph.set_data(gd_X[:i], gd_Y[:i])\n",
    "        return graph\n",
    "\n",
    "    ani = FuncAnimation(fig, animate, frames=len(gd_X), interval=200, repeat=True)\n",
    "\n",
    "    plt.title(title)\n",
    "    plt.show()\n",
    "\n",
    "    return ani\n",
    "\n",
    "\n",
    "def animate_grad_descent_2d(X, Y, Z, min_point, gd_X, title=''):\n",
    "    fig = plt.figure(figsize=(6, 4))\n",
    "\n",
    "    ctr = plt.contour(X, Y, Z)\n",
    "\n",
    "    plt.grid(True, which='both')\n",
    "\n",
    "    plt.plot(min_point[0], min_point[1], 'bx', markersize=12)\n",
    "\n",
    "    graph, = plt.plot([], [], 'or-')\n",
    "\n",
    "    def animate(i):\n",
    "        graph.set_data(gd_X[:i, 0], gd_X[:i, 1])\n",
    "        return graph\n",
    "\n",
    "    ani = FuncAnimation(fig, animate, frames=len(gd_X), interval=200, repeat=True)\n",
    "\n",
    "    plt.title(title)\n",
    "    plt.show()\n",
    "\n",
    "    return ani"
   ]
  },
  {
   "cell_type": "markdown",
   "metadata": {},
   "source": [
    "## 1. $y=(1 - x)^2 + 2$"
   ]
  },
  {
   "cell_type": "code",
   "execution_count": null,
   "metadata": {},
   "outputs": [],
   "source": [
    "def x_squared(x):\n",
    "    return (1 - x) ** 2 + 2\n",
    "\n",
    "\n",
    "def dx_squared(x):\n",
    "    return 2 * x - 2"
   ]
  },
  {
   "cell_type": "code",
   "execution_count": null,
   "metadata": {},
   "outputs": [],
   "source": [
    "X = np.linspace(start=-2, stop=4, num=50, endpoint=True)\n",
    "Y = x_squared(X)\n",
    "dY = dx_squared(X)"
   ]
  },
  {
   "cell_type": "markdown",
   "metadata": {},
   "source": [
    "### 1.1. Slow convergence"
   ]
  },
  {
   "cell_type": "code",
   "execution_count": null,
   "metadata": {
    "scrolled": false
   },
   "outputs": [],
   "source": [
    "x0 = -2\n",
    "alpha = 0.005\n",
    "\n",
    "gd_X, gd_Y = trace_grad_descent(f=x_squared, df=dx_squared, x0=x0, alpha=alpha, n_iter=100)\n",
    "ani = animate_grad_descent(X, Y, gd_X=gd_X, gd_Y=gd_Y, title='alpha = {}'.format(alpha))"
   ]
  },
  {
   "cell_type": "markdown",
   "metadata": {},
   "source": [
    "### 1.2. Good convergence"
   ]
  },
  {
   "cell_type": "code",
   "execution_count": null,
   "metadata": {},
   "outputs": [],
   "source": [
    "x0 = -2\n",
    "alpha = 0.1\n",
    "\n",
    "gd_X, gd_Y = trace_grad_descent(f=x_squared, df=dx_squared, x0=x0, alpha=alpha, n_iter=100)\n",
    "ani = animate_grad_descent(X, Y, gd_X=gd_X, gd_Y=gd_Y, title='alpha = {}'.format(alpha))"
   ]
  },
  {
   "cell_type": "markdown",
   "metadata": {},
   "source": [
    "### 1.3. Overjumping slow convergence"
   ]
  },
  {
   "cell_type": "code",
   "execution_count": null,
   "metadata": {},
   "outputs": [],
   "source": [
    "x0 = -2\n",
    "alpha = 0.995\n",
    "\n",
    "gd_X, gd_Y = trace_grad_descent(f=x_squared, df=dx_squared, x0=x0, alpha=alpha, n_iter=100)\n",
    "ani = animate_grad_descent(X, Y, gd_X=gd_X, gd_Y=gd_Y, title='alpha = {}'.format(alpha))"
   ]
  },
  {
   "cell_type": "markdown",
   "metadata": {},
   "source": [
    "### 1.4. Divergence"
   ]
  },
  {
   "cell_type": "code",
   "execution_count": null,
   "metadata": {},
   "outputs": [],
   "source": [
    "x0 = 0\n",
    "alpha = 1.025\n",
    "\n",
    "gd_X, gd_Y = trace_grad_descent(f=x_squared, df=dx_squared, x0=x0, alpha=alpha, n_iter=100)\n",
    "ani = animate_grad_descent(X, Y, gd_X=gd_X, gd_Y=gd_Y, title='alpha = {}'.format(alpha))"
   ]
  },
  {
   "cell_type": "markdown",
   "metadata": {},
   "source": [
    "## 2. $y = x \\cdot \\sin x$"
   ]
  },
  {
   "cell_type": "code",
   "execution_count": null,
   "metadata": {},
   "outputs": [],
   "source": [
    "def x_sinx(x):\n",
    "    return x * np.sin(x)\n",
    "\n",
    "\n",
    "def dx_sinx(x):\n",
    "    return np.sin(x) + x * np.cos(x)"
   ]
  },
  {
   "cell_type": "code",
   "execution_count": null,
   "metadata": {},
   "outputs": [],
   "source": [
    "X = np.linspace(start=-2, stop=8, num=100, endpoint=True)\n",
    "Y = x_sinx(X)\n",
    "dY = dx_sinx(X)"
   ]
  },
  {
   "cell_type": "markdown",
   "metadata": {},
   "source": [
    "### 2.1. Slow convergence"
   ]
  },
  {
   "cell_type": "code",
   "execution_count": null,
   "metadata": {
    "scrolled": false
   },
   "outputs": [],
   "source": [
    "x0 = 2.5\n",
    "alpha = 0.01\n",
    "\n",
    "gd_X, gd_Y = trace_grad_descent(f=x_sinx, df=dx_sinx, x0=x0, alpha=alpha, n_iter=100)\n",
    "animate_grad_descent(X, Y, gd_X=gd_X, gd_Y=gd_Y, title='alpha = {}'.format(alpha))"
   ]
  },
  {
   "cell_type": "markdown",
   "metadata": {},
   "source": [
    "### 2.2. Good convergence"
   ]
  },
  {
   "cell_type": "code",
   "execution_count": null,
   "metadata": {},
   "outputs": [],
   "source": [
    "x0 = 2.5\n",
    "alpha = 0.1\n",
    "\n",
    "gd_X, gd_Y = trace_grad_descent(f=x_sinx, df=dx_sinx, x0=x0, alpha=alpha, n_iter=100)\n",
    "animate_grad_descent(X, Y, gd_X=gd_X, gd_Y=gd_Y, title='alpha = {}'.format(alpha))"
   ]
  },
  {
   "cell_type": "markdown",
   "metadata": {},
   "source": [
    "### 2.3. Overjumping divergence"
   ]
  },
  {
   "cell_type": "code",
   "execution_count": null,
   "metadata": {},
   "outputs": [],
   "source": [
    "x0 = 2.5\n",
    "alpha = 0.6\n",
    "\n",
    "gd_X, gd_Y = trace_grad_descent(f=x_sinx, df=dx_sinx, x0=x0, alpha=alpha, n_iter=100)\n",
    "animate_grad_descent(X, Y, gd_X=gd_X, gd_Y=gd_Y, title='alpha = {}'.format(alpha))"
   ]
  },
  {
   "cell_type": "markdown",
   "metadata": {},
   "source": [
    "### 2.4. Convergence with jumping into another local minumum"
   ]
  },
  {
   "cell_type": "code",
   "execution_count": null,
   "metadata": {},
   "outputs": [],
   "source": [
    "x0 = 2.5\n",
    "alpha = 1\n",
    "\n",
    "gd_X, gd_Y = trace_grad_descent(f=x_sinx, df=dx_sinx, x0=x0, alpha=alpha, n_iter=100)\n",
    "animate_grad_descent(X, Y, gd_X=gd_X, gd_Y=gd_Y, title='alpha = {}'.format(alpha))"
   ]
  },
  {
   "cell_type": "markdown",
   "metadata": {
    "collapsed": true
   },
   "source": [
    "## 3. $z=3x^2 + y^2$"
   ]
  },
  {
   "cell_type": "code",
   "execution_count": null,
   "metadata": {},
   "outputs": [],
   "source": [
    "def z(x):\n",
    "    return 3 * x[0] ** 2 + x[1] ** 2\n",
    "\n",
    "\n",
    "def dz(x):\n",
    "    dx_0 = 6 * x[0]\n",
    "    dx_1 = 2 * x[1]\n",
    "    return np.array([dx_0, dx_1])"
   ]
  },
  {
   "cell_type": "code",
   "execution_count": null,
   "metadata": {},
   "outputs": [],
   "source": [
    "x = np.linspace(start=-10, stop=10, num=200, endpoint=True)\n",
    "y = np.linspace(start=-10, stop=10, num=200, endpoint=True)\n",
    "X, Y = np.meshgrid(x, y)\n",
    "Z = z([X, Y])"
   ]
  },
  {
   "cell_type": "markdown",
   "metadata": {},
   "source": [
    "### 3.1. Slow convergence"
   ]
  },
  {
   "cell_type": "code",
   "execution_count": null,
   "metadata": {},
   "outputs": [],
   "source": [
    "alpha = 0.005\n",
    "\n",
    "gd_X, gd_Z = trace_grad_descent(z, dz, x0=np.array([-9., -9.]), alpha=alpha, n_iter=100)\n",
    "\n",
    "gd_X = np.array(gd_X)\n",
    "gd_Z = np.array(gd_Z).reshape(-1, 1)\n",
    "\n",
    "animate_grad_descent_2d(X, Y, Z, min_point=(0, 0), gd_X=gd_X, title='$3x^2 + y^2$, alpha={}'.format(alpha))"
   ]
  },
  {
   "cell_type": "markdown",
   "metadata": {},
   "source": [
    "### 3.2. Good convergence"
   ]
  },
  {
   "cell_type": "code",
   "execution_count": null,
   "metadata": {},
   "outputs": [],
   "source": [
    "alpha = 0.1\n",
    "\n",
    "gd_X, gd_Z = trace_grad_descent(z, dz, x0=np.array([-9., -9.]), alpha=alpha, n_iter=100)\n",
    "\n",
    "gd_X = np.array(gd_X)\n",
    "gd_Z = np.array(gd_Z).reshape(-1, 1)\n",
    "\n",
    "animate_grad_descent_2d(X, Y, Z, min_point=(0, 0), gd_X=gd_X, title='$3x^2 + y^2$, alpha={}'.format(alpha))"
   ]
  },
  {
   "cell_type": "markdown",
   "metadata": {},
   "source": [
    "### 3.3. Overjumping convergence"
   ]
  },
  {
   "cell_type": "code",
   "execution_count": null,
   "metadata": {},
   "outputs": [],
   "source": [
    "alpha = 0.25\n",
    "\n",
    "gd_X, gd_Z = trace_grad_descent(z, dz, x0=np.array([-9., -9.]), alpha=alpha, n_iter=100)\n",
    "\n",
    "gd_X = np.array(gd_X)\n",
    "gd_Z = np.array(gd_Z).reshape(-1, 1)\n",
    "\n",
    "animate_grad_descent_2d(X, Y, Z, min_point=(0, 0), gd_X=gd_X, title='$3x^2 + y^2$, alpha={}'.format(alpha))"
   ]
  },
  {
   "cell_type": "code",
   "execution_count": null,
   "metadata": {},
   "outputs": [],
   "source": []
  }
 ],
 "metadata": {
  "kernelspec": {
   "display_name": "Python 3",
   "language": "python",
   "name": "python3"
  },
  "language_info": {
   "codemirror_mode": {
    "name": "ipython",
    "version": 3
   },
   "file_extension": ".py",
   "mimetype": "text/x-python",
   "name": "python",
   "nbconvert_exporter": "python",
   "pygments_lexer": "ipython3",
   "version": "3.6.0"
  }
 },
 "nbformat": 4,
 "nbformat_minor": 2
}
